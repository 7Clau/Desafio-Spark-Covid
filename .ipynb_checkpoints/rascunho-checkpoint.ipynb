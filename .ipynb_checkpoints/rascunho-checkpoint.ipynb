{
 "cells": [
  {
   "cell_type": "code",
   "execution_count": 210,
   "id": "560e8f80-5039-4c3d-ade9-3dbfa44fc76f",
   "metadata": {},
   "outputs": [],
   "source": [
    "from pyspark.sql import SparkSession\n",
    "from pyspark.sql.functions import col, expr, to_timestamp, month, year, to_date, sum, avg, floor, round\n",
    "from pyspark.sql.window import Window\n",
    "spark = SparkSession.builder \\\n",
    "            .master(\"local[*]\") \\\n",
    "            .appName(\"airflow_prod\") \\\n",
    "            .config('spark.executor.memory', '6g') \\\n",
    "            .config('spark.driver.memory', '6g') \\\n",
    "            .config(\"spark.driver.maxResultSize\", \"1048MB\") \\\n",
    "            .config(\"spark.port.maxRetries\", \"100\") \\\n",
    "            .getOrCreate()"
   ]
  },
  {
   "cell_type": "code",
   "execution_count": 64,
   "id": "c2e6e524-1b9e-4482-b337-0c729f9340e7",
   "metadata": {
    "editable": true,
    "slideshow": {
     "slide_type": ""
    },
    "tags": []
   },
   "outputs": [],
   "source": [
    "def realiza_pivot(df, tipo):\n",
    "    # separa as colunas datas para realizar pivot\n",
    "    colunas = df.columns[4:]\n",
    "\n",
    "    # coleta numero de colunas\n",
    "    n = len(colunas)\n",
    "    \n",
    "    #expressao para realizar o pivot\n",
    "    expr = \"stack({}, {}) as (data, {})\".format(n, \", \".join([\"'{}', `{}`\".format(col, col) for col in colunas]),tipo)\n",
    "    \n",
    "    #realiza pivot\n",
    "    df = df.selectExpr(\"estado\", \"pais\", \"latitude\", \"longitude\", expr)\n",
    "    return df"
   ]
  },
  {
   "cell_type": "code",
   "execution_count": 60,
   "id": "91d3a363-35cc-4a5b-ae6b-0bd1e04e03d6",
   "metadata": {},
   "outputs": [],
   "source": [
    "def renomea_colunas(df):\n",
    "    df = df.withColumnRenamed(\"Province/State\", \"estado\") \\\n",
    "        .withColumnRenamed(\"Country/Region\", \"pais\") \\\n",
    "        .withColumnRenamed(\"Lat\", \"latitude\") \\\n",
    "        .withColumnRenamed(\"Long\", \"longitude\")\n",
    "    return df"
   ]
  },
  {
   "cell_type": "code",
   "execution_count": 148,
   "id": "8c587a85-8a96-4fbe-ad68-3ab7fddb4ba5",
   "metadata": {
    "editable": true,
    "slideshow": {
     "slide_type": ""
    },
    "tags": []
   },
   "outputs": [],
   "source": [
    "def trunca_colunas(df):\n",
    "    #flor retorna o valor inteiro da multiplicação longitudade * 100 e após divido por 100 para ficar com 2 casas decimais\n",
    "    df = df.withColumn(\"longitude\", floor(df[\"longitude\"] * 100) / 100).withColumn(\"latitude\", floor(df[\"latitude\"] * 100) / 100)\n",
    "    return df"
   ]
  },
  {
   "cell_type": "code",
   "execution_count": 150,
   "id": "841daf33-aea6-471b-84f6-d70f3237b2e2",
   "metadata": {},
   "outputs": [],
   "source": [
    "### recuperados dados e renomea colunas\n",
    "df_recovered = spark.read.options(header='true',inferSchema=True).csv('/home/jovyan/work/dados/covid19/time_series_covid19_recovered_global.csv')\n",
    "df_recovered = renomea_colunas(df_recovered)\n",
    "df_recovered = trunca_colunas(df_recovered) # algumas colunas lat e long estavam com incosistencia nos decimais\n",
    "\n",
    "df_confirmed = spark.read.options(header='true',inferSchema=True).csv('/home/jovyan/work/dados/covid19/time_series_covid19_confirmed_global.csv')\n",
    "df_confirmed = renomea_colunas(df_confirmed)\n",
    "df_confirmed = trunca_colunas(df_confirmed)\n",
    "\n",
    "df_deaths = spark.read.options(header='true',inferSchema=True).csv('/home/jovyan/work/dados/covid19/time_series_covid19_deaths_global.csv')\n",
    "df_deaths = renomea_colunas(df_deaths)\n",
    "df_deaths = trunca_colunas(df_deaths)"
   ]
  },
  {
   "cell_type": "code",
   "execution_count": 152,
   "id": "45730345-ee0f-40b9-9ab4-cee52f588d95",
   "metadata": {
    "editable": true,
    "slideshow": {
     "slide_type": ""
    },
    "tags": []
   },
   "outputs": [],
   "source": [
    "#realiza pivot de todas as tabelas\n",
    "recovered = realiza_pivot(df_recovered, \"quantidade_recuperados\")\n",
    "\n",
    "confirmed = realiza_pivot(df_confirmed, \"quantidade_confirmados\")\n",
    "\n",
    "deaths = realiza_pivot(df_deaths, \"quantidade_mortes\")"
   ]
  },
  {
   "cell_type": "code",
   "execution_count": 154,
   "id": "0e4a3684-811c-47bb-993c-c39283dfc210",
   "metadata": {},
   "outputs": [],
   "source": [
    "#recovered.count()"
   ]
  },
  {
   "cell_type": "code",
   "execution_count": 155,
   "id": "4e0cd62d-4ac6-44e2-aeff-0e5487d49f44",
   "metadata": {},
   "outputs": [],
   "source": [
    "# inner join entre a tabela deaths e confirmed\n",
    "join = confirmed.join( deaths,((confirmed.latitude == deaths.latitude) & (confirmed.longitude == deaths.longitude)  & (confirmed.data == deaths.data) & (confirmed.pais == deaths.pais)), \"inner\" ) \\\n",
    "    .select(deaths[\"*\"], confirmed[\"quantidade_confirmados\"])\n"
   ]
  },
  {
   "cell_type": "code",
   "execution_count": 242,
   "id": "b1b462f9-4223-46ed-aade-1dc60a787ee8",
   "metadata": {
    "editable": true,
    "slideshow": {
     "slide_type": ""
    },
    "tags": []
   },
   "outputs": [],
   "source": [
    "#join.count()"
   ]
  },
  {
   "cell_type": "code",
   "execution_count": 157,
   "id": "44e84ba1-18ee-49f7-93a0-a524c0c5ba4e",
   "metadata": {},
   "outputs": [],
   "source": [
    "# right join entre a tabela join e recovered\n",
    "join2 = recovered.join(join,((recovered.latitude == join.latitude) & (recovered.longitude == join.longitude)  & (recovered.data == join.data) & (recovered.pais == join.pais)), \"right\" ) \\\n",
    "    .select(join[\"*\"], recovered[\"quantidade_recuperados\"])"
   ]
  },
  {
   "cell_type": "code",
   "execution_count": 158,
   "id": "38c45865-2841-4284-936f-f8902882e48c",
   "metadata": {},
   "outputs": [],
   "source": [
    "# altera os tipos de dados\n",
    "trusted = join2.withColumn(\"data\", to_timestamp(col(\"data\"), \"M/d/yy\")) \\\n",
    "    .withColumn(\"quantidade_mortes\", col(\"quantidade_mortes\").cast(\"long\")) \\\n",
    "    .withColumn(\"quantidade_confirmados\", col(\"quantidade_confirmados\").cast(\"long\")) \\\n",
    "    .withColumn(\"quantidade_recuperados\", col(\"quantidade_recuperados\").cast(\"long\")) \\\n",
    "    .withColumn(\"mes\", month(\"data\")) \\\n",
    "    .withColumn(\"ano\", year(\"data\"))"
   ]
  },
  {
   "cell_type": "code",
   "execution_count": 159,
   "id": "c7f829a7-c005-42e3-80de-560e33d4394c",
   "metadata": {},
   "outputs": [
    {
     "data": {
      "text/plain": [
       "DataFrame[estado: string, pais: string, latitude: double, longitude: double, data: timestamp, quantidade_mortes: bigint, quantidade_confirmados: bigint, quantidade_recuperados: bigint, mes: int, ano: int]"
      ]
     },
     "execution_count": 159,
     "metadata": {},
     "output_type": "execute_result"
    }
   ],
   "source": [
    "trusted"
   ]
  },
  {
   "cell_type": "code",
   "execution_count": 161,
   "id": "2e5e1be0-d724-494d-82d5-2bed5aee6589",
   "metadata": {},
   "outputs": [],
   "source": [
    "# grava o dado em um unico arquivo particionado por ano e mes no formato parquet\n",
    "#trusted.repartition(1).write.format(\"parquet\").option(\"header\", \"true\").mode(\"overwrite\").partitionBy(\"ano\",\"mes\").save(\"/home/jovyan/work/dados/Trusted\")"
   ]
  },
  {
   "cell_type": "code",
   "execution_count": 160,
   "id": "7c20d5da-ca36-4cef-b062-1a3fc380cdab",
   "metadata": {},
   "outputs": [],
   "source": [
    "agg = trusted.select(\"pais\",\"data\", \"quantidade_confirmados\", \"quantidade_mortes\", \"quantidade_recuperados\", \"ano\")"
   ]
  },
  {
   "cell_type": "code",
   "execution_count": 171,
   "id": "741f8c63-6b23-4fc3-bea0-e1ce317feae0",
   "metadata": {
    "editable": true,
    "slideshow": {
     "slide_type": ""
    },
    "tags": []
   },
   "outputs": [],
   "source": [
    "#df_recovered.filter(df_recovered[\"pais\"]=='Mozambique').orderBy(col(\"data\").desc()).show(10)\n",
    "#recovered.filter(recovered[\"pais\"]=='Mozambique').show()"
   ]
  },
  {
   "cell_type": "code",
   "execution_count": 165,
   "id": "7ff8aa1b-df47-4aeb-a664-b4f6dc086863",
   "metadata": {
    "editable": true,
    "slideshow": {
     "slide_type": ""
    },
    "tags": []
   },
   "outputs": [],
   "source": [
    "#agregação dos dados por pais e data\n",
    "agg = refined.groupBy(\"pais\",\"data\",\"ano\").agg(sum(\"quantidade_confirmados\"), sum(\"quantidade_mortes\"), sum(\"quantidade_recuperados\")).orderBy(\"data\")"
   ]
  },
  {
   "cell_type": "code",
   "execution_count": 172,
   "id": "ed69b7bf-2362-45a6-87a2-dc8c5f3e0331",
   "metadata": {
    "editable": true,
    "slideshow": {
     "slide_type": ""
    },
    "tags": []
   },
   "outputs": [],
   "source": [
    "#agg.filter(agg[\"pais\"]=='Cambodia').orderBy(col(\"data\").desc()).show(10)"
   ]
  },
  {
   "cell_type": "code",
   "execution_count": 204,
   "id": "26f59d77-82e4-4199-bb85-76333d96368c",
   "metadata": {
    "editable": true,
    "slideshow": {
     "slide_type": ""
    },
    "tags": []
   },
   "outputs": [
    {
     "name": "stdout",
     "output_type": "stream",
     "text": [
      "+-------------------+-------------------+----+---------------------------+----------------------+---------------------------+\n",
      "|               pais|               data| ano|sum(quantidade_confirmados)|sum(quantidade_mortes)|sum(quantidade_recuperados)|\n",
      "+-------------------+-------------------+----+---------------------------+----------------------+---------------------------+\n",
      "|    Solomon Islands|2020-01-22 00:00:00|2020|                          0|                     0|                          0|\n",
      "|Congo (Brazzaville)|2020-01-22 00:00:00|2020|                          0|                     0|                          0|\n",
      "|           Holy See|2020-01-22 00:00:00|2020|                          0|                     0|                          0|\n",
      "|                 US|2020-01-22 00:00:00|2020|                          1|                     0|                          0|\n",
      "|               Mali|2020-01-22 00:00:00|2020|                          0|                     0|                          0|\n",
      "|            Armenia|2020-01-22 00:00:00|2020|                          0|                     0|                          0|\n",
      "|         Mozambique|2020-01-22 00:00:00|2020|                          0|                     0|                          0|\n",
      "|          Argentina|2020-01-22 00:00:00|2020|                          0|                     0|                          0|\n",
      "|           Zimbabwe|2020-01-22 00:00:00|2020|                          0|                     0|                          0|\n",
      "|         Azerbaijan|2020-01-22 00:00:00|2020|                          0|                     0|                          0|\n",
      "+-------------------+-------------------+----+---------------------------+----------------------+---------------------------+\n",
      "only showing top 10 rows\n",
      "\n"
     ]
    }
   ],
   "source": [
    "agg.show(10)"
   ]
  },
  {
   "cell_type": "code",
   "execution_count": 183,
   "id": "01ba8c8a-0178-4359-9219-ccd679c9edd1",
   "metadata": {},
   "outputs": [],
   "source": []
  },
  {
   "cell_type": "code",
   "execution_count": 238,
   "id": "d15bc895-5370-4533-a758-ef4523a4b532",
   "metadata": {},
   "outputs": [],
   "source": [
    "# cria janela particionada por pais e ordenada por data com intervalo de 7 valores\n",
    "window = Window.partitionBy(\"pais\").orderBy(\"data\").rowsBetween(-6, 0)\n",
    "\n",
    "# cria coluna media movel e faz o arredondamente para duas casa decimais\n",
    "refined_media_movel = agg.withColumn(\"media_movel_mortes\", round(avg(col(\"sum(quantidade_mortes)\")).over(window), 2)) \\\n",
    "    .withColumn(\"media_movel_confirmados\", round(avg(col(\"sum(quantidade_confirmados)\")).over(window), 2)) \\\n",
    "    .withColumn(\"media_movel_recuperados\", round(avg(col(\"sum(quantidade_recuperados)\")).over(window), 2))"
   ]
  },
  {
   "cell_type": "code",
   "execution_count": 239,
   "id": "19fee927-2a09-49e2-84d2-a8f182263ca3",
   "metadata": {},
   "outputs": [],
   "source": [
    "# selecão de colunas e cast das colunas para long\n",
    "refined = refined_media_movel .select(\"pais\",\"data\",\"media_movel_confirmados\", \"media_movel_mortes\",\"media_movel_recuperados\", \"ano\") \\\n",
    "    .withColumn(\"media_movel_mortes\", col(\"media_movel_mortes\").cast(\"long\")) \\\n",
    "    .withColumn(\"media_movel_confirmados\", col(\"media_movel_confirmados\").cast(\"long\")) \\\n",
    "    .withColumn(\"media_movel_recuperados\", col(\"media_movel_recuperados\").cast(\"long\"))"
   ]
  },
  {
   "cell_type": "code",
   "execution_count": 241,
   "id": "f39d30e9-a686-4dcd-8a60-7b970ddec950",
   "metadata": {},
   "outputs": [
    {
     "name": "stdout",
     "output_type": "stream",
     "text": [
      "+-----------+-------------------+-----------------------+------------------+-----------------------+----+\n",
      "|       pais|               data|media_movel_confirmados|media_movel_mortes|media_movel_recuperados| ano|\n",
      "+-----------+-------------------+-----------------------+------------------+-----------------------+----+\n",
      "|Afghanistan|2020-01-22 00:00:00|                      0|                 0|                      0|2020|\n",
      "|Afghanistan|2020-01-23 00:00:00|                      0|                 0|                      0|2020|\n",
      "|Afghanistan|2020-01-24 00:00:00|                      0|                 0|                      0|2020|\n",
      "|Afghanistan|2020-01-25 00:00:00|                      0|                 0|                      0|2020|\n",
      "|Afghanistan|2020-01-26 00:00:00|                      0|                 0|                      0|2020|\n",
      "|Afghanistan|2020-01-27 00:00:00|                      0|                 0|                      0|2020|\n",
      "|Afghanistan|2020-01-28 00:00:00|                      0|                 0|                      0|2020|\n",
      "|Afghanistan|2020-01-29 00:00:00|                      0|                 0|                      0|2020|\n",
      "|Afghanistan|2020-01-30 00:00:00|                      0|                 0|                      0|2020|\n",
      "|Afghanistan|2020-01-31 00:00:00|                      0|                 0|                      0|2020|\n",
      "|Afghanistan|2020-02-01 00:00:00|                      0|                 0|                      0|2020|\n",
      "|Afghanistan|2020-02-02 00:00:00|                      0|                 0|                      0|2020|\n",
      "|Afghanistan|2020-02-03 00:00:00|                      0|                 0|                      0|2020|\n",
      "|Afghanistan|2020-02-04 00:00:00|                      0|                 0|                      0|2020|\n",
      "|Afghanistan|2020-02-05 00:00:00|                      0|                 0|                      0|2020|\n",
      "|Afghanistan|2020-02-06 00:00:00|                      0|                 0|                      0|2020|\n",
      "|Afghanistan|2020-02-07 00:00:00|                      0|                 0|                      0|2020|\n",
      "|Afghanistan|2020-02-08 00:00:00|                      0|                 0|                      0|2020|\n",
      "|Afghanistan|2020-02-09 00:00:00|                      0|                 0|                      0|2020|\n",
      "|Afghanistan|2020-02-10 00:00:00|                      0|                 0|                      0|2020|\n",
      "+-----------+-------------------+-----------------------+------------------+-----------------------+----+\n",
      "only showing top 20 rows\n",
      "\n"
     ]
    }
   ],
   "source": [
    "refined.show()"
   ]
  },
  {
   "cell_type": "code",
   "execution_count": 240,
   "id": "0b5b9662-ea2e-459b-915b-e49b43bf478f",
   "metadata": {},
   "outputs": [
    {
     "data": {
      "text/plain": [
       "DataFrame[pais: string, data: timestamp, media_movel_confirmados: bigint, media_movel_mortes: bigint, media_movel_recuperados: bigint, ano: int]"
      ]
     },
     "execution_count": 240,
     "metadata": {},
     "output_type": "execute_result"
    }
   ],
   "source": [
    "refined"
   ]
  },
  {
   "cell_type": "code",
   "execution_count": null,
   "id": "1b33b5e5-67ff-42a0-b4ed-22c23394eb1f",
   "metadata": {},
   "outputs": [],
   "source": [
    "refined.repartition(1).write.format(\"parquet\").option(\"header\", \"true\").mode(\"overwrite\").partitionBy(\"ano\").save(\"/home/jovyan/work/dados/Refined\")"
   ]
  },
  {
   "cell_type": "code",
   "execution_count": 237,
   "id": "10230d01-8f64-4bde-929d-9dcd7ab95b4b",
   "metadata": {
    "editable": true,
    "slideshow": {
     "slide_type": ""
    },
    "tags": []
   },
   "outputs": [],
   "source": [
    "#refined_media_movel.filter((refined[\"pais\"] == \"Armenia\")).orderBy(col(\"data\").desc()).show()"
   ]
  },
  {
   "cell_type": "code",
   "execution_count": 228,
   "id": "b22b7899-4d4b-47b7-980d-83422d063df7",
   "metadata": {},
   "outputs": [],
   "source": [
    "#refined.filter((refined[\"sum(quantidade_mortes)\"]>0) & (refined[\"pais\"] == \"Armenia\")).show()"
   ]
  },
  {
   "cell_type": "code",
   "execution_count": 207,
   "id": "4ec7a962-2480-436e-8d3a-fc229cc1c88d",
   "metadata": {},
   "outputs": [],
   "source": [
    "#refined.show(10)"
   ]
  },
  {
   "cell_type": "code",
   "execution_count": 201,
   "id": "aea9e78f-5234-4dd5-b359-ee5bd2e930e8",
   "metadata": {},
   "outputs": [
    {
     "data": {
      "text/plain": [
       "pyspark.sql.window.WindowSpec"
      ]
     },
     "execution_count": 201,
     "metadata": {},
     "output_type": "execute_result"
    }
   ],
   "source": [
    "#refined.repartition(1).write.format(\"parquet\").option(\"header\", \"true\").mode(\"overwrite\").partitionBy(\"ano\").save(\"/home/jovyan/work/dados/Refined\")"
   ]
  },
  {
   "cell_type": "code",
   "execution_count": 202,
   "id": "1d051655-9a79-4e0b-a99b-e389530f762b",
   "metadata": {
    "editable": true,
    "slideshow": {
     "slide_type": ""
    },
    "tags": []
   },
   "outputs": [],
   "source": [
    "#movel.filter((agg[\"sum(quantidade_mortes)\"]>0) & (agg[\"pais\"] == \"Armenia\")).show()"
   ]
  },
  {
   "cell_type": "code",
   "execution_count": null,
   "id": "2d70a395-4385-47c3-b9bc-02eb7833ed37",
   "metadata": {
    "editable": true,
    "slideshow": {
     "slide_type": ""
    },
    "tags": []
   },
   "outputs": [],
   "source": []
  }
 ],
 "metadata": {
  "kernelspec": {
   "display_name": "Python 3 (ipykernel)",
   "language": "python",
   "name": "python3"
  },
  "language_info": {
   "codemirror_mode": {
    "name": "ipython",
    "version": 3
   },
   "file_extension": ".py",
   "mimetype": "text/x-python",
   "name": "python",
   "nbconvert_exporter": "python",
   "pygments_lexer": "ipython3",
   "version": "3.11.6"
  }
 },
 "nbformat": 4,
 "nbformat_minor": 5
}
