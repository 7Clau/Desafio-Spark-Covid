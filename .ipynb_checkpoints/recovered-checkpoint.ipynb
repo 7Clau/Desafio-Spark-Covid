{
 "cells": [
  {
   "cell_type": "code",
   "execution_count": 3,
   "id": "300160e1-a660-4926-bb71-7bdd991292ca",
   "metadata": {
    "jupyter": {
     "source_hidden": true
    }
   },
   "outputs": [],
   "source": [
    "from pyspark.sql import SparkSession\n",
    "spark = SparkSession.builder \\\n",
    "            .master(\"local[*]\") \\\n",
    "            .appName(\"airflow_app\") \\\n",
    "            .config('spark.executor.memory', '6g') \\\n",
    "            .config('spark.driver.memory', '6g') \\\n",
    "            .config(\"spark.driver.maxResultSize\", \"1048MB\") \\\n",
    "            .config(\"spark.port.maxRetries\", \"100\") \\\n",
    "            .getOrCreate()"
   ]
  },
  {
   "cell_type": "code",
   "execution_count": 41,
   "id": "7363e85c-9fd9-4128-bef7-60e998b2e0f3",
   "metadata": {},
   "outputs": [],
   "source": [
    "from pyspark.sql import SparkSession\n",
    "spark = SparkSession.builder \\\n",
    "            .master(\"local[*]\") \\\n",
    "            .appName(\"airflow_app\") \\\n",
    "            .config('spark.executor.memory', '6g') \\\n",
    "            .config('spark.driver.memory', '6g') \\\n",
    "            .config(\"spark.driver.maxResultSize\", \"1048MB\") \\\n",
    "            .config(\"spark.port.maxRetries\", \"100\") \\\n",
    "            .getOrCreate()"
   ]
  },
  {
   "cell_type": "code",
   "execution_count": 275,
   "id": "d01a7104-5389-434a-8f90-9d8f6cbb3fa0",
   "metadata": {},
   "outputs": [],
   "source": [
    "from pyspark.sql.functions import array, col, explode\n",
    "from pyspark.sql import functions as F"
   ]
  },
  {
   "cell_type": "code",
   "execution_count": 443,
   "id": "498bfca7-c99b-43a7-a930-8ff9f559aa15",
   "metadata": {},
   "outputs": [],
   "source": [
    "df_recoved = spark.read.options(header='true',inferSchema=True).csv('/home/jovyan/work/dados/covid19/time_series_covid19_recovered_global.csv')\n",
    "df_recoved = df_recoved.withColumnRenamed(\"Province/State\", \"Province_State\").wbithColumnRenamed(\"Country/Region\", \"Country_Region\") # renomea as colunas"
   ]
  },
  {
   "cell_type": "code",
   "execution_count": 452,
   "id": "f3a88d71-ece9-4fe0-a991-fb10ef683cb9",
   "metadata": {},
   "outputs": [],
   "source": [
    "# separa as colunas datas para realizar pivot\n",
    "colunas = df_recoved.columns[4:]\n",
    "\n",
    "# coleta numero de colunas\n",
    "n = len(colunas)\n",
    "\n",
    "#expressao para realizar o pivot\n",
    "expr = \"stack({}, {}) as (Date, Recovered)\".format(n, \", \".join([\"'{}', `{}`\".format(col, col) for col in colunas]))\n",
    "\n",
    "#realiza pivot\n",
    "recoved = df_recoved.selectExpr(\"Province_State\", \"Country_Region\", \"Lat\", \"Long\", expr)"
   ]
  },
  {
   "cell_type": "code",
   "execution_count": 455,
   "id": "c20413eb-6c9e-4564-a766-7c6f1494f96a",
   "metadata": {},
   "outputs": [
    {
     "name": "stdout",
     "output_type": "stream",
     "text": [
      "+--------------+--------------+--------+---------+-------+---------+\n",
      "|Province_State|Country_Region|     Lat|     Long|   Date|Recovered|\n",
      "+--------------+--------------+--------+---------+-------+---------+\n",
      "|          NULL|   Afghanistan|33.93911|67.709953|1/22/20|        0|\n",
      "|          NULL|   Afghanistan|33.93911|67.709953|1/23/20|        0|\n",
      "|          NULL|   Afghanistan|33.93911|67.709953|1/24/20|        0|\n",
      "|          NULL|   Afghanistan|33.93911|67.709953|1/25/20|        0|\n",
      "|          NULL|   Afghanistan|33.93911|67.709953|1/26/20|        0|\n",
      "|          NULL|   Afghanistan|33.93911|67.709953|1/27/20|        0|\n",
      "|          NULL|   Afghanistan|33.93911|67.709953|1/28/20|        0|\n",
      "|          NULL|   Afghanistan|33.93911|67.709953|1/29/20|        0|\n",
      "|          NULL|   Afghanistan|33.93911|67.709953|1/30/20|        0|\n",
      "|          NULL|   Afghanistan|33.93911|67.709953|1/31/20|        0|\n",
      "|          NULL|   Afghanistan|33.93911|67.709953| 2/1/20|        0|\n",
      "|          NULL|   Afghanistan|33.93911|67.709953| 2/2/20|        0|\n",
      "|          NULL|   Afghanistan|33.93911|67.709953| 2/3/20|        0|\n",
      "|          NULL|   Afghanistan|33.93911|67.709953| 2/4/20|        0|\n",
      "|          NULL|   Afghanistan|33.93911|67.709953| 2/5/20|        0|\n",
      "|          NULL|   Afghanistan|33.93911|67.709953| 2/6/20|        0|\n",
      "|          NULL|   Afghanistan|33.93911|67.709953| 2/7/20|        0|\n",
      "|          NULL|   Afghanistan|33.93911|67.709953| 2/8/20|        0|\n",
      "|          NULL|   Afghanistan|33.93911|67.709953| 2/9/20|        0|\n",
      "|          NULL|   Afghanistan|33.93911|67.709953|2/10/20|        0|\n",
      "+--------------+--------------+--------+---------+-------+---------+\n",
      "only showing top 20 rows\n",
      "\n"
     ]
    }
   ],
   "source": [
    "recoved.show()"
   ]
  },
  {
   "cell_type": "code",
   "execution_count": 433,
   "id": "324318d8-2663-495f-994d-66c94ddeaf7e",
   "metadata": {},
   "outputs": [
    {
     "data": {
      "text/plain": [
       "'#copia as colunas\\ncolunas = df1.columns[4:]\\n# faz pivot\\npivot = dft.selectExpr(\\n    \"Province_State\", \"Country_Region\", \"Lat\", \"Long\", \\n    \"stack(1, \\'1/22/20\\', `1/22/20`) as (Date, Recovered)\".format(colunas[0],colunas[0])\\n)\\n# Exibi dataframe\\npivot.show()'"
      ]
     },
     "execution_count": 433,
     "metadata": {},
     "output_type": "execute_result"
    }
   ],
   "source": [
    "\"\"\"#copia as colunas\n",
    "colunas = df1.columns[4:]\n",
    "# faz pivot\n",
    "pivot = dft.selectExpr(\n",
    "    \"Province_State\", \"Country_Region\", \"Lat\", \"Long\", \n",
    "    \"stack(1, '1/22/20', `1/22/20`) as (Date, Recovered)\".format(colunas[0],colunas[0])\n",
    ")\n",
    "# Exibi dataframe\n",
    "pivot.show()\"\"\""
   ]
  }
 ],
 "metadata": {
  "kernelspec": {
   "display_name": "Python 3 (ipykernel)",
   "language": "python",
   "name": "python3"
  },
  "language_info": {
   "codemirror_mode": {
    "name": "ipython",
    "version": 3
   },
   "file_extension": ".py",
   "mimetype": "text/x-python",
   "name": "python",
   "nbconvert_exporter": "python",
   "pygments_lexer": "ipython3",
   "version": "3.11.6"
  }
 },
 "nbformat": 4,
 "nbformat_minor": 5
}
