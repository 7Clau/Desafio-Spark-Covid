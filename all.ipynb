{
 "cells": [
  {
   "cell_type": "code",
   "execution_count": 232,
   "id": "560e8f80-5039-4c3d-ade9-3dbfa44fc76f",
   "metadata": {},
   "outputs": [],
   "source": [
    "from pyspark.sql import SparkSession\n",
    "from pyspark.sql.functions import col, expr, to_timestamp, month, year\n",
    "spark = SparkSession.builder \\\n",
    "            .master(\"local[*]\") \\\n",
    "            .appName(\"airflow_prod\") \\\n",
    "            .config('spark.executor.memory', '6g') \\\n",
    "            .config('spark.driver.memory', '6g') \\\n",
    "            .config(\"spark.driver.maxResultSize\", \"1048MB\") \\\n",
    "            .config(\"spark.port.maxRetries\", \"100\") \\\n",
    "            .getOrCreate()"
   ]
  },
  {
   "cell_type": "code",
   "execution_count": 76,
   "id": "c2e6e524-1b9e-4482-b337-0c729f9340e7",
   "metadata": {},
   "outputs": [],
   "source": [
    "def realiza_pivot(df, tipo):\n",
    "    # separa as colunas datas para realizar pivot\n",
    "    colunas = df.columns[4:]\n",
    "\n",
    "    # coleta numero de colunas\n",
    "    n = len(colunas)\n",
    "    \n",
    "    #expressao para realizar o pivot\n",
    "    expr = \"stack({}, {}) as (Date, {})\".format(n, \", \".join([\"'{}', `{}`\".format(col, col) for col in colunas]),tipo)\n",
    "    \n",
    "    #realiza pivot\n",
    "    df = df.selectExpr(\"Province_State\", \"Country_Region\", \"Lat\", \"Long\", expr)\n",
    "    return df"
   ]
  },
  {
   "cell_type": "code",
   "execution_count": 78,
   "id": "841daf33-aea6-471b-84f6-d70f3237b2e2",
   "metadata": {},
   "outputs": [],
   "source": [
    "### recuperados\n",
    "df_recovered = spark.read.options(header='true',inferSchema=True).csv('/home/jovyan/work/dados/covid19/time_series_covid19_recovered_global.csv')\n",
    "df_recovered = df_recoved.withColumnRenamed(\"Province/State\", \"Province_State\").withColumnRenamed(\"Country/Region\", \"Country_Region\") # renomea as colunas\n",
    "\n",
    "df_confirmed = spark.read.options(header='true',inferSchema=True).csv('/home/jovyan/work/dados/covid19/time_series_covid19_confirmed_global.csv')\n",
    "df_confirmed = df_confirmed.withColumnRenamed(\"Province/State\", \"Province_State\").withColumnRenamed(\"Country/Region\", \"Country_Region\") # renomea as colunas\n",
    "\n",
    "df_deaths = spark.read.options(header='true',inferSchema=True).csv('/home/jovyan/work/dados/covid19/time_series_covid19_deaths_global.csv')\n",
    "df_deaths = df_deaths.withColumnRenamed(\"Province/State\", \"Province_State\").withColumnRenamed(\"Country/Region\", \"Country_Region\") # renomea as colunas"
   ]
  },
  {
   "cell_type": "code",
   "execution_count": 79,
   "id": "45730345-ee0f-40b9-9ab4-cee52f588d95",
   "metadata": {},
   "outputs": [],
   "source": [
    "#realiza pivot de todas as tabelas\n",
    "recovered = realiza_pivot(df_recovered, \"Recovered\")\n",
    "\n",
    "confirmed = realiza_pivot(df_confirmed, \"Confirmed\")\n",
    "\n",
    "deaths = realiza_pivot(df_deaths, \"Deaths\")"
   ]
  },
  {
   "cell_type": "code",
   "execution_count": 244,
   "id": "5b0a1e10-b8c4-408a-8c8c-9be5051ab6d4",
   "metadata": {},
   "outputs": [],
   "source": [
    "#deaths.count()"
   ]
  },
  {
   "cell_type": "code",
   "execution_count": 245,
   "id": "0e4a3684-811c-47bb-993c-c39283dfc210",
   "metadata": {},
   "outputs": [],
   "source": [
    "#recovered.count()"
   ]
  },
  {
   "cell_type": "code",
   "execution_count": 183,
   "id": "4e0cd62d-4ac6-44e2-aeff-0e5487d49f44",
   "metadata": {},
   "outputs": [],
   "source": [
    "# inner join entre a tabela deaths e confirmed\n",
    "join = confirmed.join( deaths,((confirmed.Lat == deaths.Lat) & (confirmed.Long == deaths.Long)  & (confirmed.Date == deaths.Date) & (confirmed.Country_Region == deaths.Country_Region)), \"inner\" ) \\\n",
    "    .select(deaths[\"*\"], confirmed[\"confirmed\"])\n"
   ]
  },
  {
   "cell_type": "code",
   "execution_count": null,
   "id": "b1b462f9-4223-46ed-aade-1dc60a787ee8",
   "metadata": {},
   "outputs": [],
   "source": [
    "join.count()"
   ]
  },
  {
   "cell_type": "code",
   "execution_count": 201,
   "id": "44e84ba1-18ee-49f7-93a0-a524c0c5ba4e",
   "metadata": {},
   "outputs": [],
   "source": [
    "# right join entre a tabela join e recovered\n",
    "join2 = recovered.join(join,((recovered.Lat == join.Lat) & (recovered.Long == join.Long)  & (recovered.Date == join.Date) & (recovered.Country_Region == join.Country_Region)), \"right\" ) \\\n",
    "    .select(join[\"*\"], recovered[\"recovered\"])"
   ]
  },
  {
   "cell_type": "code",
   "execution_count": 240,
   "id": "38c45865-2841-4284-936f-f8902882e48c",
   "metadata": {},
   "outputs": [],
   "source": [
    "# altera os tipos de dados\n",
    "join3 = join2.withColumn(\"Date\", to_timestamp(col(\"Date\"), \"M/d/yy\")) \\\n",
    "    .withColumn(\"deaths\", col(\"deaths\").cast(\"long\")) \\\n",
    "    .withColumn(\"confirmed\", col(\"confirmed\").cast(\"long\")) \\\n",
    "    .withColumn(\"recovered\", col(\"recovered\").cast(\"long\")) \\\n",
    "    .withColumn(\"mes\", month(\"Date\")) \\\n",
    "    .withColumn(\"ano\", year(\"Date\"))"
   ]
  },
  {
   "cell_type": "code",
   "execution_count": 241,
   "id": "7c20d5da-ca36-4cef-b062-1a3fc380cdab",
   "metadata": {},
   "outputs": [
    {
     "data": {
      "text/plain": [
       "DataFrame[Province_State: string, Country_Region: string, Lat: double, Long: double, Date: timestamp, deaths: bigint, confirmed: bigint, recovered: bigint, mes: int, ano: int]"
      ]
     },
     "execution_count": 241,
     "metadata": {},
     "output_type": "execute_result"
    }
   ],
   "source": [
    "join3"
   ]
  },
  {
   "cell_type": "code",
   "execution_count": 247,
   "id": "2e5e1be0-d724-494d-82d5-2bed5aee6589",
   "metadata": {},
   "outputs": [],
   "source": [
    "join3.write.format(\"parquet\").option(\"header\", \"true\").mode(\"overwrite\").save(\"/home/jovyan/work/dados/Trusted\")"
   ]
  }
 ],
 "metadata": {
  "kernelspec": {
   "display_name": "Python 3 (ipykernel)",
   "language": "python",
   "name": "python3"
  },
  "language_info": {
   "codemirror_mode": {
    "name": "ipython",
    "version": 3
   },
   "file_extension": ".py",
   "mimetype": "text/x-python",
   "name": "python",
   "nbconvert_exporter": "python",
   "pygments_lexer": "ipython3",
   "version": "3.11.6"
  }
 },
 "nbformat": 4,
 "nbformat_minor": 5
}
