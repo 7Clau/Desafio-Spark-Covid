{
 "cells": [
  {
   "cell_type": "markdown",
   "id": "7c966bec-4d10-4e37-956f-387c176af17e",
   "metadata": {
    "editable": true,
    "slideshow": {
     "slide_type": ""
    },
    "tags": []
   },
   "source": [
    "## Início - Import de funções e SparkSession"
   ]
  },
  {
   "cell_type": "code",
   "execution_count": 1,
   "id": "560e8f80-5039-4c3d-ade9-3dbfa44fc76f",
   "metadata": {
    "editable": true,
    "slideshow": {
     "slide_type": ""
    },
    "tags": []
   },
   "outputs": [],
   "source": [
    "from pyspark.sql import SparkSession\n",
    "from pyspark.sql.functions import col, expr, to_timestamp, month, year, to_date, sum, avg, floor, round\n",
    "from pyspark.sql.window import Window\n",
    "\n",
    "spark = SparkSession.builder \\\n",
    "            .master(\"local[*]\") \\\n",
    "            .appName(\"airflow_prod\") \\\n",
    "            .config('spark.executor.memory', '6g') \\\n",
    "            .config('spark.driver.memory', '6g') \\\n",
    "            .config(\"spark.driver.maxResultSize\", \"1048MB\") \\\n",
    "            .config(\"spark.port.maxRetries\", \"100\") \\\n",
    "            .getOrCreate()\n",
    "\n",
    "diretorio = \"/home/jovyan/work/notebooks/datalake\""
   ]
  },
  {
   "cell_type": "markdown",
   "id": "1c29cba7-a2ca-49d2-900b-dea2970cf54d",
   "metadata": {},
   "source": [
    "## Funções para a camada Trusted"
   ]
  },
  {
   "cell_type": "code",
   "execution_count": 2,
   "id": "c2e6e524-1b9e-4482-b337-0c729f9340e7",
   "metadata": {
    "editable": true,
    "slideshow": {
     "slide_type": ""
    },
    "tags": []
   },
   "outputs": [],
   "source": [
    "def realiza_pivot(df, tipo):\n",
    "    # separa as colunas datas para realizar pivot\n",
    "    colunas = df.columns[4:]\n",
    "\n",
    "    # coleta numero de colunas\n",
    "    n = len(colunas)\n",
    "    \n",
    "    # expressao para realizar o pivot\n",
    "    expr = \"stack({}, {}) as (data, {})\".format(n, \", \".join([\"'{}', `{}`\".format(col, col) for col in colunas]),tipo)\n",
    "    \n",
    "    # realiza pivot\n",
    "    df = df.selectExpr(\"estado\", \"pais\", \"latitude\", \"longitude\", expr)\n",
    "    return df"
   ]
  },
  {
   "cell_type": "code",
   "execution_count": 3,
   "id": "91d3a363-35cc-4a5b-ae6b-0bd1e04e03d6",
   "metadata": {},
   "outputs": [],
   "source": [
    "def renomea_colunas(df):\n",
    "    df = df.withColumnRenamed(\"Province/State\", \"estado\") \\\n",
    "        .withColumnRenamed(\"Country/Region\", \"pais\") \\\n",
    "        .withColumnRenamed(\"Lat\", \"latitude\") \\\n",
    "        .withColumnRenamed(\"Long\", \"longitude\")\n",
    "    return df"
   ]
  },
  {
   "cell_type": "code",
   "execution_count": 4,
   "id": "8c587a85-8a96-4fbe-ad68-3ab7fddb4ba5",
   "metadata": {
    "editable": true,
    "slideshow": {
     "slide_type": ""
    },
    "tags": []
   },
   "outputs": [],
   "source": [
    "def trunca_colunas(df):\n",
    "    # flor retorna o valor inteiro da multiplicação longitudade * 100 e após divido por 100 para ficar com 2 casas decimais\n",
    "    df = df.withColumn(\"longitude\", floor(df[\"longitude\"] * 100) / 100).withColumn(\"latitude\", floor(df[\"latitude\"] * 100) / 100)\n",
    "    return df"
   ]
  },
  {
   "cell_type": "markdown",
   "id": "b37b48df-824a-4bb3-86b5-7c2c631c2e9b",
   "metadata": {},
   "source": [
    "## Início da camada Trusted"
   ]
  },
  {
   "cell_type": "code",
   "execution_count": 5,
   "id": "841daf33-aea6-471b-84f6-d70f3237b2e2",
   "metadata": {},
   "outputs": [],
   "source": [
    "# recupera dados e renomea colunas\n",
    "df_recovered = spark.read.options(header='true',inferSchema=True).csv(diretorio + '/raw/covid19/time_series_covid19_recovered_global.csv')\n",
    "df_recovered = renomea_colunas(df_recovered)\n",
    "df_recovered = trunca_colunas(df_recovered) # algumas colunas lat e long estavam com incosistencia nos decimais\n",
    "\n",
    "df_confirmed = spark.read.options(header='true',inferSchema=True).csv(diretorio + '/raw/covid19/time_series_covid19_confirmed_global.csv')\n",
    "df_confirmed = renomea_colunas(df_confirmed)\n",
    "df_confirmed = trunca_colunas(df_confirmed)\n",
    "\n",
    "df_deaths = spark.read.options(header='true',inferSchema=True).csv(diretorio + '/raw/covid19/time_series_covid19_deaths_global.csv')\n",
    "df_deaths = renomea_colunas(df_deaths)\n",
    "df_deaths = trunca_colunas(df_deaths)"
   ]
  },
  {
   "cell_type": "code",
   "execution_count": 6,
   "id": "45730345-ee0f-40b9-9ab4-cee52f588d95",
   "metadata": {
    "editable": true,
    "slideshow": {
     "slide_type": ""
    },
    "tags": []
   },
   "outputs": [],
   "source": [
    "# realiza pivot de todas as tabelas\n",
    "recovered = realiza_pivot(df_recovered, \"quantidade_recuperados\")\n",
    "\n",
    "confirmed = realiza_pivot(df_confirmed, \"quantidade_confirmados\")\n",
    "\n",
    "deaths = realiza_pivot(df_deaths, \"quantidade_mortes\")"
   ]
  },
  {
   "cell_type": "code",
   "execution_count": 7,
   "id": "4e0cd62d-4ac6-44e2-aeff-0e5487d49f44",
   "metadata": {},
   "outputs": [],
   "source": [
    "# inner join entre as tabelas deaths e confirmed\n",
    "join = confirmed.join( deaths,((confirmed.latitude == deaths.latitude) & (confirmed.longitude == deaths.longitude)  & (confirmed.data == deaths.data) & (confirmed.pais == deaths.pais)), \"inner\" ) \\\n",
    "    .select(deaths[\"*\"], confirmed[\"quantidade_confirmados\"])\n"
   ]
  },
  {
   "cell_type": "code",
   "execution_count": 8,
   "id": "44e84ba1-18ee-49f7-93a0-a524c0c5ba4e",
   "metadata": {},
   "outputs": [],
   "source": [
    "# right join entre as tabelas join e recovered\n",
    "join = recovered.join(join,((recovered.latitude == join.latitude) & (recovered.longitude == join.longitude)  & (recovered.data == join.data) & (recovered.pais == join.pais)), \"right\" ) \\\n",
    "    .select(join[\"*\"], recovered[\"quantidade_recuperados\"])"
   ]
  },
  {
   "cell_type": "code",
   "execution_count": 9,
   "id": "38c45865-2841-4284-936f-f8902882e48c",
   "metadata": {},
   "outputs": [],
   "source": [
    "# altera os tipos de dados\n",
    "trusted = join.withColumn(\"data\", to_timestamp(col(\"data\"), \"M/d/yy\")) \\\n",
    "    .withColumn(\"quantidade_mortes\", col(\"quantidade_mortes\").cast(\"long\")) \\\n",
    "    .withColumn(\"quantidade_confirmados\", col(\"quantidade_confirmados\").cast(\"long\")) \\\n",
    "    .withColumn(\"quantidade_recuperados\", col(\"quantidade_recuperados\").cast(\"long\")) \\\n",
    "    .withColumn(\"mes\", month(\"data\")) \\\n",
    "    .withColumn(\"ano\", year(\"data\"))"
   ]
  },
  {
   "cell_type": "code",
   "execution_count": 10,
   "id": "0f99e20d-ad7b-45d3-82bd-10baae6dc746",
   "metadata": {},
   "outputs": [
    {
     "data": {
      "text/plain": [
       "DataFrame[estado: string, pais: string, latitude: double, longitude: double, data: timestamp, quantidade_mortes: bigint, quantidade_confirmados: bigint, quantidade_recuperados: bigint, mes: int, ano: int]"
      ]
     },
     "execution_count": 10,
     "metadata": {},
     "output_type": "execute_result"
    }
   ],
   "source": [
    "trusted"
   ]
  },
  {
   "cell_type": "code",
   "execution_count": 11,
   "id": "8f540d1e-dde7-4c7a-8d6f-b52d4f512079",
   "metadata": {
    "scrolled": true
   },
   "outputs": [
    {
     "name": "stdout",
     "output_type": "stream",
     "text": [
      "+------+-------+--------+---------+-------------------+-----------------+----------------------+----------------------+---+----+\n",
      "|estado|   pais|latitude|longitude|               data|quantidade_mortes|quantidade_confirmados|quantidade_recuperados|mes| ano|\n",
      "+------+-------+--------+---------+-------------------+-----------------+----------------------+----------------------+---+----+\n",
      "|  NULL|Armenia|   40.06|    45.03|2021-05-12 00:00:00|             4272|                219950|                206078|  5|2021|\n",
      "|  NULL|Armenia|   40.06|    45.03|2021-05-11 00:00:00|             4256|                219596|                205675|  5|2021|\n",
      "|  NULL|Armenia|   40.06|    45.03|2021-05-10 00:00:00|             4249|                219353|                205200|  5|2021|\n",
      "|  NULL|Armenia|   40.06|    45.03|2021-05-09 00:00:00|             4234|                219270|                204578|  5|2021|\n",
      "|  NULL|Armenia|   40.06|    45.03|2021-05-08 00:00:00|             4225|                219092|                204121|  5|2021|\n",
      "|  NULL|Armenia|   40.06|    45.03|2021-05-07 00:00:00|             4209|                218681|                203307|  5|2021|\n",
      "|  NULL|Armenia|   40.06|    45.03|2021-05-06 00:00:00|             4192|                218325|                202273|  5|2021|\n",
      "|  NULL|Armenia|   40.06|    45.03|2021-05-05 00:00:00|             4178|                217900|                201559|  5|2021|\n",
      "|  NULL|Armenia|   40.06|    45.03|2021-05-04 00:00:00|             4165|                217407|                201107|  5|2021|\n",
      "|  NULL|Armenia|   40.06|    45.03|2021-05-03 00:00:00|             4149|                217008|                200472|  5|2021|\n",
      "+------+-------+--------+---------+-------------------+-----------------+----------------------+----------------------+---+----+\n",
      "only showing top 10 rows\n",
      "\n"
     ]
    }
   ],
   "source": [
    "trusted.filter((trusted[\"pais\"] == \"Armenia\")).orderBy(col(\"data\").desc()).show(10)"
   ]
  },
  {
   "cell_type": "code",
   "execution_count": 12,
   "id": "2e5e1be0-d724-494d-82d5-2bed5aee6589",
   "metadata": {},
   "outputs": [],
   "source": [
    "# grava os dados em um unico arquivo particionado por ano e mes no formato parquet\n",
    "trusted.repartition(1).write.format(\"parquet\").option(\"header\", \"true\").mode(\"overwrite\").partitionBy(\"ano\",\"mes\").save(diretorio + \"/Trusted\")"
   ]
  },
  {
   "cell_type": "markdown",
   "id": "3244f8f7-4efe-4202-b0d0-5b4e7bdaf2d8",
   "metadata": {},
   "source": [
    "## Início da camada Refinada"
   ]
  },
  {
   "cell_type": "code",
   "execution_count": 13,
   "id": "9bcc6b24-133b-4383-9e2b-c7e268508dcb",
   "metadata": {},
   "outputs": [],
   "source": [
    "# leitura dos dados da camada trusted\n",
    "df_trusted = spark.read.options(header='true',inferSchema=True).parquet(diretorio + \"/Trusted\")"
   ]
  },
  {
   "cell_type": "code",
   "execution_count": 14,
   "id": "7c20d5da-ca36-4cef-b062-1a3fc380cdab",
   "metadata": {},
   "outputs": [],
   "source": [
    "# seleção dos dados para a camada refined\n",
    "df_trusted = df_trusted.select(\"pais\",\"data\", \"quantidade_confirmados\", \"quantidade_mortes\", \"quantidade_recuperados\", \"ano\")"
   ]
  },
  {
   "cell_type": "code",
   "execution_count": 15,
   "id": "7ff8aa1b-df47-4aeb-a664-b4f6dc086863",
   "metadata": {
    "editable": true,
    "slideshow": {
     "slide_type": ""
    },
    "tags": []
   },
   "outputs": [],
   "source": [
    "# agregação dos dados por pais e data\n",
    "agg = df_trusted.groupBy(\"pais\",\"data\",\"ano\").agg(sum(\"quantidade_confirmados\"), sum(\"quantidade_mortes\"), sum(\"quantidade_recuperados\")).orderBy(\"data\")"
   ]
  },
  {
   "cell_type": "code",
   "execution_count": 16,
   "id": "d15bc895-5370-4533-a758-ef4523a4b532",
   "metadata": {},
   "outputs": [],
   "source": [
    "# cria janela particionada por pais e ordenada por data com intervalo de 7 valores\n",
    "window = Window.partitionBy(\"pais\").orderBy(\"data\").rowsBetween(-6, 0)\n",
    "\n",
    "# cria coluna media movel e faz o arredondamente para duas casas decimais\n",
    "refined_media_movel = agg.withColumn(\"media_movel_mortes\", round(avg(col(\"sum(quantidade_mortes)\")).over(window), 2)) \\\n",
    "    .withColumn(\"media_movel_confirmados\", round(avg(col(\"sum(quantidade_confirmados)\")).over(window), 2)) \\\n",
    "    .withColumn(\"media_movel_recuperados\", round(avg(col(\"sum(quantidade_recuperados)\")).over(window), 2))"
   ]
  },
  {
   "cell_type": "code",
   "execution_count": 17,
   "id": "19fee927-2a09-49e2-84d2-a8f182263ca3",
   "metadata": {},
   "outputs": [],
   "source": [
    "# selecão de colunas e cast das colunas para long\n",
    "refined = refined_media_movel .select(\"pais\",\"data\",\"media_movel_confirmados\", \"media_movel_mortes\",\"media_movel_recuperados\", \"ano\") \\\n",
    "    .withColumn(\"media_movel_mortes\", col(\"media_movel_mortes\").cast(\"long\")) \\\n",
    "    .withColumn(\"media_movel_confirmados\", col(\"media_movel_confirmados\").cast(\"long\")) \\\n",
    "    .withColumn(\"media_movel_recuperados\", col(\"media_movel_recuperados\").cast(\"long\"))"
   ]
  },
  {
   "cell_type": "code",
   "execution_count": 18,
   "id": "3c61b602-0d2a-4c4f-8f23-ccd26310eb35",
   "metadata": {},
   "outputs": [
    {
     "data": {
      "text/plain": [
       "DataFrame[pais: string, data: timestamp, media_movel_confirmados: bigint, media_movel_mortes: bigint, media_movel_recuperados: bigint, ano: int]"
      ]
     },
     "execution_count": 18,
     "metadata": {},
     "output_type": "execute_result"
    }
   ],
   "source": [
    "refined"
   ]
  },
  {
   "cell_type": "code",
   "execution_count": 19,
   "id": "a7ab32d8-89b1-4c24-ae85-658d207247e3",
   "metadata": {
    "editable": true,
    "slideshow": {
     "slide_type": ""
    },
    "tags": []
   },
   "outputs": [
    {
     "name": "stdout",
     "output_type": "stream",
     "text": [
      "+-------+-------------------+-----------------------+------------------+-----------------------+----+\n",
      "|   pais|               data|media_movel_confirmados|media_movel_mortes|media_movel_recuperados| ano|\n",
      "+-------+-------------------+-----------------------+------------------+-----------------------+----+\n",
      "|Armenia|2021-05-12 00:00:00|                 219181|              4233|                 204461|2021|\n",
      "|Armenia|2021-05-11 00:00:00|                 218888|              4220|                 203816|2021|\n",
      "|Armenia|2021-05-10 00:00:00|                 218575|              4207|                 203163|2021|\n",
      "|Armenia|2021-05-09 00:00:00|                 218240|              4193|                 202488|2021|\n",
      "|Armenia|2021-05-08 00:00:00|                 217896|              4179|                 201799|2021|\n",
      "|Armenia|2021-05-07 00:00:00|                 217540|              4165|                 201084|2021|\n",
      "|Armenia|2021-05-06 00:00:00|                 217166|              4151|                 200345|2021|\n",
      "|Armenia|2021-05-05 00:00:00|                 216766|              4136|                 199616|2021|\n",
      "|Armenia|2021-05-04 00:00:00|                 216334|              4121|                 198863|2021|\n",
      "|Armenia|2021-05-03 00:00:00|                 215856|              4105|                 198091|2021|\n",
      "+-------+-------------------+-----------------------+------------------+-----------------------+----+\n",
      "only showing top 10 rows\n",
      "\n"
     ]
    }
   ],
   "source": [
    "refined.filter((refined[\"pais\"] == \"Armenia\")).orderBy(col(\"data\").desc()).show(10)"
   ]
  },
  {
   "cell_type": "code",
   "execution_count": 20,
   "id": "1b33b5e5-67ff-42a0-b4ed-22c23394eb1f",
   "metadata": {},
   "outputs": [],
   "source": [
    "# grava os dados em um unico arquivo particionando por ano no formato parquet na camada refinada\n",
    "refined.repartition(1).write.format(\"parquet\").option(\"header\", \"true\").mode(\"overwrite\").partitionBy(\"ano\").save(diretorio + \"/Refined\")"
   ]
  },
  {
   "cell_type": "code",
   "execution_count": null,
   "id": "09a9d66b-8a7d-40e9-8055-f3fc5a213c0d",
   "metadata": {
    "editable": true,
    "slideshow": {
     "slide_type": ""
    },
    "tags": []
   },
   "outputs": [],
   "source": [
    "spark.stop()"
   ]
  }
 ],
 "metadata": {
  "kernelspec": {
   "display_name": "Python 3 (ipykernel)",
   "language": "python",
   "name": "python3"
  },
  "language_info": {
   "codemirror_mode": {
    "name": "ipython",
    "version": 3
   },
   "file_extension": ".py",
   "mimetype": "text/x-python",
   "name": "python",
   "nbconvert_exporter": "python",
   "pygments_lexer": "ipython3",
   "version": "3.11.6"
  }
 },
 "nbformat": 4,
 "nbformat_minor": 5
}
